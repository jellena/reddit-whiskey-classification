{
 "cells": [
  {
   "cell_type": "code",
   "execution_count": 3,
   "metadata": {},
   "outputs": [
    {
     "name": "stdout",
     "output_type": "stream",
     "text": [
      "257.4739019870758\n"
     ]
    }
   ],
   "source": [
    "# Below script will requests all submissions between a user defined date range\n",
    "# The data for each subreddit will be outputted to a separate csv file in the same directory as script\n",
    "\n",
    "# Imports\n",
    "import pandas as pd\n",
    "import requests\n",
    "import time\n",
    "\n",
    "# Base url for pushshift api\n",
    "url = 'https://api.pushshift.io/reddit/search/submission'\n",
    "\n",
    "# Defining subreddit to pull submission information from\n",
    "subreddits = ['whiskey', 'scotch', 'bourbon']\n",
    "\n",
    "# Timer to check for runtime\n",
    "t0 = time.time()\n",
    "\n",
    "# Jan 1 2015 00:00:00 GMT = 1420070400\n",
    "for subreddit in subreddits:\n",
    "    # Instantiating an empty dataframe to concat into\n",
    "    df = pd.DataFrame()\n",
    "    \n",
    "    # Setting a check date for loop to  begin checking against\n",
    "    # Jan 1 2020 00:00:00 GMT = 1577836800\n",
    "    check_date = 1577836800\n",
    "    \n",
    "    # earlies_date is used to set initial min_date and to drop submissions outside of date range\n",
    "    earliest_date = 1420070400\n",
    "    \n",
    "    while check_date > 1420070400:\n",
    "        # Limiting number of calls to be within limits of pushshift API\n",
    "        time.sleep(.3)\n",
    "        # Changing the min_date parameter to the current earliest post in dataframe\n",
    "        params = {\n",
    "            'subreddit' : subreddit,\n",
    "            'size'      : 500,\n",
    "            'before'    : check_date\n",
    "            }\n",
    "        # Requesting daata\n",
    "        req = requests.get(url, params)\n",
    "        data = req.json()\n",
    "        # Pull out desired data\n",
    "        posts = data['data']\n",
    "        # Appending data to dataframe\n",
    "        df_temp = pd.DataFrame(posts)\n",
    "        df = pd.concat([df, df_temp], sort=False)\n",
    "        # Updating check_date to be earliest date to prevent calling double sets of \n",
    "        check_date = df['created_utc'].min()\n",
    "    \n",
    "\n",
    "    # Dropping all submissions that were pulled outside of desired timeframe\n",
    "    df.drop(df.loc[df['created_utc'] < earliest_date].index, inplace=True)\n",
    "\n",
    "    # Writing to csv\n",
    "    df.to_csv(f'./{subreddit}_submissions.csv')\n",
    "\n",
    "# Printing runtime of while loop     \n",
    "print(time.time() - t0)"
   ]
  }
 ],
 "metadata": {
  "kernelspec": {
   "display_name": "Python 3",
   "language": "python",
   "name": "python3"
  },
  "language_info": {
   "codemirror_mode": {
    "name": "ipython",
    "version": 3
   },
   "file_extension": ".py",
   "mimetype": "text/x-python",
   "name": "python",
   "nbconvert_exporter": "python",
   "pygments_lexer": "ipython3",
   "version": "3.7.6"
  }
 },
 "nbformat": 4,
 "nbformat_minor": 4
}
