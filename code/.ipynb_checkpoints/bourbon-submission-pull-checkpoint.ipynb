{
 "cells": [
  {
   "cell_type": "code",
   "execution_count": 1,
   "metadata": {},
   "outputs": [
    {
     "name": "stdout",
     "output_type": "stream",
     "text": [
      "85.71292114257812\n"
     ]
    }
   ],
   "source": [
    "# Imports\n",
    "import pandas as pd\n",
    "import requests\n",
    "import time\n",
    "\n",
    "# Base url for pushshift api\n",
    "url = 'https://api.pushshift.io/reddit/search/submission'\n",
    "\n",
    "# Defining subreddit to pull submission information from\n",
    "subreddit = 'bourbon'\n",
    "\n",
    "# Setting a minumum date for loop to  begin checking against\n",
    "# Jan 1 2020 00:00:00 GMT = 1577836800\n",
    "min_date = 1577836800\n",
    "\n",
    "# earlies_date is used to set initial min_date and to drop submissions outside of date range\n",
    "earliest_date = 1420070400\n",
    "\n",
    "# Instantiating an empty dataframe to concat into\n",
    "df = pd.DataFrame()\n",
    "\n",
    "# Timer to check for runtime\n",
    "t0 = time.time()\n",
    "\n",
    "# Jan 1 2015 00:00:00 GMT = 1420070400\n",
    "while min_date > 1420070400:\n",
    "    time.sleep(.3)\n",
    "    # Changing the min_date parameter to the current earliest post in dataframe\n",
    "    params = {\n",
    "        'subreddit' : subreddit,\n",
    "        'size'      : 500,\n",
    "        'before'    : min_date\n",
    "        }\n",
    "    req = requests.get(url, params)\n",
    "    data = req.json()\n",
    "    posts = data['data']\n",
    "    df_temp = pd.DataFrame(posts)\n",
    "    df = pd.concat([df, df_temp], sort=False)\n",
    "    min_date = df['created_utc'].min()\n",
    "    \n",
    "# Printing runtime of while loop     \n",
    "print(time.time() - t0)\n",
    "\n",
    "# Dropping all submissions that were pulled outside of desired timeframe\n",
    "df.drop(df.loc[df['created_utc'] < earliest_date].index, inplace=True)\n",
    "\n",
    "# Writing to csv\n",
    "df.to_csv(f'./{subreddit}_submissions.csv')"
   ]
  }
 ],
 "metadata": {
  "kernelspec": {
   "display_name": "Python 3",
   "language": "python",
   "name": "python3"
  },
  "language_info": {
   "codemirror_mode": {
    "name": "ipython",
    "version": 3
   },
   "file_extension": ".py",
   "mimetype": "text/x-python",
   "name": "python",
   "nbconvert_exporter": "python",
   "pygments_lexer": "ipython3",
   "version": "3.7.6"
  }
 },
 "nbformat": 4,
 "nbformat_minor": 4
}
